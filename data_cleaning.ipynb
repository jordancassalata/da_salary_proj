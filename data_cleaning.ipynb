{
 "cells": [
  {
   "cell_type": "code",
   "execution_count": 16,
   "metadata": {},
   "outputs": [],
   "source": [
    "import pandas as pd     \n",
    "\n",
    "df = pd.read_csv('glassdoor_jobs.csv')\n",
    "pd.set_option(\"display.max_columns\", 12)\n",
    "pd.set_option(\"display.max_rows\", 15)"
   ]
  },
  {
   "cell_type": "code",
   "execution_count": 17,
   "metadata": {},
   "outputs": [],
   "source": [
    "#Salary Parsing\n",
    "df['hourly'] = df[\"Salary Estimate\"].apply(lambda x: 1 if \"per hour\" in x.lower() else 0)\n",
    "df['employer_provided'] = df[\"Salary Estimate\"].apply(lambda x: 1 if 'employer provided salary:' in x.lower() else 0)"
   ]
  },
  {
   "cell_type": "code",
   "execution_count": 18,
   "metadata": {},
   "outputs": [],
   "source": [
    "df = df[df[\"Salary Estimate\"] != '-1']\n",
    "salary = df[\"Salary Estimate\"].apply(lambda x: x.split('(')[0])\n",
    "minus_kd = salary.apply(lambda x: x.replace('K', '').replace(\"$\",\"\"))"
   ]
  },
  {
   "cell_type": "code",
   "execution_count": 19,
   "metadata": {},
   "outputs": [],
   "source": [
    "min_hr = minus_kd.apply(lambda x: x.lower().replace('per hour','').replace('employer provided salary:','')) "
   ]
  },
  {
   "cell_type": "code",
   "execution_count": 20,
   "metadata": {},
   "outputs": [],
   "source": [
    "df[[\"min_salary\", \"max_salary\"]] = min_hr.str.split(\"-\").apply(pd.Series).ffill(axis=1)\n",
    "df['min_salary'] = pd.to_numeric(df['min_salary'])\n",
    "df['max_salary'] = pd.to_numeric(df['max_salary'])\n"
   ]
  },
  {
   "cell_type": "code",
   "execution_count": 21,
   "metadata": {},
   "outputs": [],
   "source": [
    "df['avg_salary'] = (df.max_salary+df.min_salary)/2"
   ]
  },
  {
   "cell_type": "code",
   "execution_count": 22,
   "metadata": {},
   "outputs": [],
   "source": [
    "#Grab just the company name\n",
    "df['company_name'] = df.apply(lambda x: x['Company Name'] if x[\"Rating\"] < 0 else x[\"Company Name\"][:-3], axis =1)\n",
    "df['company_name'] = df.company_name.apply(lambda x: x.replace('\\n', ''))"
   ]
  },
  {
   "cell_type": "code",
   "execution_count": 23,
   "metadata": {},
   "outputs": [],
   "source": [
    "#Grab the State from Location\n",
    "#Looks like all NaN values are Remote jobs so i will fill with that.\n",
    "#Also looks like a county in Ohio appers as the State so ill fix that as well\n",
    "df['job_state'] = df['Location'].str.split(',').str[1]\n",
    "df[\"job_state\"].replace({\"nan\": \"Remote\", \" Cuyahoga\": \"OH\"}, inplace=True)\n",
    "df['job_state'] = df['job_state'].fillna(\"Remote\")"
   ]
  },
  {
   "cell_type": "code",
   "execution_count": 24,
   "metadata": {},
   "outputs": [
    {
     "data": {
      "text/plain": [
       "Index(['Job Title', 'Salary Estimate', 'Job Description', 'Rating',\n",
       "       'Company Name', 'Location', 'Size', 'Founded', 'Type of ownership',\n",
       "       'Industry', 'Sector', 'Revenue', 'hourly', 'employer_provided',\n",
       "       'min_salary', 'max_salary', 'avg_salary', 'company_name', 'job_state'],\n",
       "      dtype='object')"
      ]
     },
     "execution_count": 24,
     "metadata": {},
     "output_type": "execute_result"
    }
   ],
   "source": [
    "df.columns"
   ]
  },
  {
   "cell_type": "code",
   "execution_count": 25,
   "metadata": {},
   "outputs": [],
   "source": [
    "#parsing job description for skills needed \n",
    "df['python'] = df['Job Description'].apply(lambda x: 1 if 'python' in x.lower() else 0)\n",
    "df['excel'] = df['Job Description'].apply(lambda x: 1 if 'excel' in x.lower() else 0)\n",
    "df['sql'] = df['Job Description'].apply(lambda x: 1 if 'sql' in x.lower() else 0)\n",
    "\n"
   ]
  },
  {
   "cell_type": "code",
   "execution_count": null,
   "metadata": {},
   "outputs": [],
   "source": [
    "df.to_csv('clean_salary_data.csv', index= False)"
   ]
  }
 ],
 "metadata": {
  "interpreter": {
   "hash": "c608726d406192abd580d013773688c8be6d7505656efc691f422b5dd4019a45"
  },
  "kernelspec": {
   "display_name": "Python 3.9.7 64-bit (windows store)",
   "name": "python3"
  },
  "language_info": {
   "codemirror_mode": {
    "name": "ipython",
    "version": 3
   },
   "file_extension": ".py",
   "mimetype": "text/x-python",
   "name": "python",
   "nbconvert_exporter": "python",
   "pygments_lexer": "ipython3",
   "version": "3.9.7"
  },
  "orig_nbformat": 4
 },
 "nbformat": 4,
 "nbformat_minor": 2
}
