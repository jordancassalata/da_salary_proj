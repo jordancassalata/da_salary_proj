{
 "cells": [
  {
   "cell_type": "code",
   "execution_count": 123,
   "metadata": {},
   "outputs": [],
   "source": [
    "import pandas as pd     \n",
    "\n",
    "df = pd.read_csv('glassdoor_jobs.csv')\n",
    "pd.set_option(\"display.max_columns\", 12)\n",
    "pd.set_option(\"display.max_rows\", 15)"
   ]
  },
  {
   "cell_type": "code",
   "execution_count": 124,
   "metadata": {},
   "outputs": [],
   "source": [
    "df[\"Company Name\"].value_counts()\n",
    "#Get rid of duplicate data. Seems to be quite a bit of duplicates. \n",
    "df2 = df.groupby([\"Job Title\", \"Company Name\", \"Location\"]).first()"
   ]
  },
  {
   "cell_type": "code",
   "execution_count": 125,
   "metadata": {},
   "outputs": [],
   "source": [
    "#Salary Parsing\n",
    "df2['hourly'] = df2[\"Salary Estimate\"].apply(lambda x: 1 if \"per hour\" in x.lower() else 0)\n",
    "df2['employer_provided'] = df2[\"Salary Estimate\"].apply(lambda x: 1 if 'employer provided salary:' in x.lower() else 0)"
   ]
  },
  {
   "cell_type": "code",
   "execution_count": 126,
   "metadata": {},
   "outputs": [],
   "source": [
    "df2 = df2[df2[\"Salary Estimate\"] != '-1']\n",
    "salary = df2[\"Salary Estimate\"].apply(lambda x: x.split('(')[0])\n",
    "minus_kd = salary.apply(lambda x: x.replace('K', '').replace(\"$\",\"\"))"
   ]
  },
  {
   "cell_type": "code",
   "execution_count": 127,
   "metadata": {},
   "outputs": [],
   "source": [
    "min_hr = minus_kd.apply(lambda x: x.lower().replace('per hour','').replace('employer provided salary:','')) "
   ]
  },
  {
   "cell_type": "code",
   "execution_count": 129,
   "metadata": {},
   "outputs": [],
   "source": [
    "df2[[\"min_salary\", \"max_salary\"]] = min_hr.str.split(\"-\").apply(pd.Series).ffill(axis=1)"
   ]
  }
 ],
 "metadata": {
  "interpreter": {
   "hash": "c608726d406192abd580d013773688c8be6d7505656efc691f422b5dd4019a45"
  },
  "kernelspec": {
   "display_name": "Python 3.9.7 64-bit (windows store)",
   "name": "python3"
  },
  "language_info": {
   "codemirror_mode": {
    "name": "ipython",
    "version": 3
   },
   "file_extension": ".py",
   "mimetype": "text/x-python",
   "name": "python",
   "nbconvert_exporter": "python",
   "pygments_lexer": "ipython3",
   "version": "3.9.7"
  },
  "orig_nbformat": 4
 },
 "nbformat": 4,
 "nbformat_minor": 2
}
