{
 "cells": [
  {
   "cell_type": "code",
   "execution_count": 90,
   "metadata": {},
   "outputs": [],
   "source": [
    "import pandas as pd\n",
    "import matplotlib.pyplot as plt\n",
    "import seaborn as sns "
   ]
  },
  {
   "cell_type": "code",
   "execution_count": 91,
   "metadata": {},
   "outputs": [],
   "source": [
    "pd.set_option('display.max_columns', None)\n",
    "pd.set_option('max_row', None)\n",
    "pd.set_option('display.expand_frame_repr', False)\n"
   ]
  },
  {
   "cell_type": "code",
   "execution_count": 92,
   "metadata": {},
   "outputs": [],
   "source": [
    "df = pd.read_csv('clean_salary_data.csv')\n",
    "df2 = df.drop_duplicates()"
   ]
  },
  {
   "cell_type": "code",
   "execution_count": 93,
   "metadata": {},
   "outputs": [
    {
     "name": "stderr",
     "output_type": "stream",
     "text": [
      "C:\\Users\\jjcas\\AppData\\Local\\Temp/ipykernel_7568/4157498090.py:1: SettingWithCopyWarning: \n",
      "A value is trying to be set on a copy of a slice from a DataFrame.\n",
      "Try using .loc[row_indexer,col_indexer] = value instead\n",
      "\n",
      "See the caveats in the documentation: https://pandas.pydata.org/pandas-docs/stable/user_guide/indexing.html#returning-a-view-versus-a-copy\n",
      "  df2['age'] = df2.Founded.apply(lambda x: x if x <1 else 2021 - x)\n"
     ]
    }
   ],
   "source": [
    "df2['age'] = df2.Founded.apply(lambda x: x if x <1 else 2021 - x)"
   ]
  },
  {
   "cell_type": "code",
   "execution_count": 94,
   "metadata": {},
   "outputs": [
    {
     "data": {
      "text/plain": [
       "<AxesSubplot:>"
      ]
     },
     "execution_count": 94,
     "metadata": {},
     "output_type": "execute_result"
    },
    {
     "data": {
      "image/png": "[encoded data removed]",
      "text/plain": [
       "<Figure size 432x288 with 1 Axes>"
      ]
     },
     "metadata": {
      "needs_background": "light"
     },
     "output_type": "display_data"
    }
   ],
   "source": [
    "df2.Rating.hist()"
   ]
  },
  {
   "cell_type": "code",
   "execution_count": 95,
   "metadata": {},
   "outputs": [
    {
     "data": {
      "text/plain": [
       "<AxesSubplot:>"
      ]
     },
     "execution_count": 95,
     "metadata": {},
     "output_type": "execute_result"
    },
    {
     "data": {
      "image/png": "[encoded data removed]",
      "text/plain": [
       "<Figure size 432x288 with 1 Axes>"
      ]
     },
     "metadata": {
      "needs_background": "light"
     },
     "output_type": "display_data"
    }
   ],
   "source": [
    "df2.avg_salary.hist()"
   ]
  },
  {
   "cell_type": "code",
   "execution_count": 96,
   "metadata": {},
   "outputs": [
    {
     "data": {
      "text/plain": [
       "<AxesSubplot:>"
      ]
     },
     "execution_count": 96,
     "metadata": {},
     "output_type": "execute_result"
    },
    {
     "data": {
      "image/png": "[encoded data removed]",
      "text/plain": [
       "<Figure size 432x288 with 1 Axes>"
      ]
     },
     "metadata": {
      "needs_background": "light"
     },
     "output_type": "display_data"
    }
   ],
   "source": [
    "df2.boxplot(column= 'Rating')"
   ]
  },
  {
   "cell_type": "code",
   "execution_count": 97,
   "metadata": {},
   "outputs": [
    {
     "data": {
      "text/html": [
       "<div>\n",
       "<style scoped>\n",
       "    .dataframe tbody tr th:only-of-type {\n",
       "        vertical-align: middle;\n",
       "    }\n",
       "\n",
       "    .dataframe tbody tr th {\n",
       "        vertical-align: top;\n",
       "    }\n",
       "\n",
       "    .dataframe thead th {\n",
       "        text-align: right;\n",
       "    }\n",
       "</style>\n",
       "<table border=\"1\" class=\"dataframe\">\n",
       "  <thead>\n",
       "    <tr style=\"text-align: right;\">\n",
       "      <th></th>\n",
       "      <th>age</th>\n",
       "      <th>avg_salary</th>\n",
       "      <th>Rating</th>\n",
       "    </tr>\n",
       "  </thead>\n",
       "  <tbody>\n",
       "    <tr>\n",
       "      <th>age</th>\n",
       "      <td>1.000000</td>\n",
       "      <td>-0.012909</td>\n",
       "      <td>0.393862</td>\n",
       "    </tr>\n",
       "    <tr>\n",
       "      <th>avg_salary</th>\n",
       "      <td>-0.012909</td>\n",
       "      <td>1.000000</td>\n",
       "      <td>0.093106</td>\n",
       "    </tr>\n",
       "    <tr>\n",
       "      <th>Rating</th>\n",
       "      <td>0.393862</td>\n",
       "      <td>0.093106</td>\n",
       "      <td>1.000000</td>\n",
       "    </tr>\n",
       "  </tbody>\n",
       "</table>\n",
       "</div>"
      ],
      "text/plain": [
       "                 age  avg_salary    Rating\n",
       "age         1.000000   -0.012909  0.393862\n",
       "avg_salary -0.012909    1.000000  0.093106\n",
       "Rating      0.393862    0.093106  1.000000"
      ]
     },
     "execution_count": 97,
     "metadata": {},
     "output_type": "execute_result"
    }
   ],
   "source": [
    "df2[['age', 'avg_salary', 'Rating']].corr()"
   ]
  },
  {
   "cell_type": "code",
   "execution_count": 98,
   "metadata": {},
   "outputs": [
    {
     "data": {
      "text/plain": [
       "<AxesSubplot:>"
      ]
     },
     "execution_count": 98,
     "metadata": {},
     "output_type": "execute_result"
    },
    {
     "data": {
      "image/png": "[encoded data removed]",
      "text/plain": [
       "<Figure size 432x288 with 2 Axes>"
      ]
     },
     "metadata": {
      "needs_background": "light"
     },
     "output_type": "display_data"
    }
   ],
   "source": [
    "cmap = sns.diverging_palette(230, 20, as_cmap=True)\n",
    "\n",
    "sns.heatmap(df2[['age', 'avg_salary', 'Rating']].corr(), vmax=.3, center=0, cmap=cmap,\n",
    "            square=True, linewidths=.5, cbar_kws={\"shrink\": .5})"
   ]
  },
  {
   "cell_type": "code",
   "execution_count": 99,
   "metadata": {},
   "outputs": [
    {
     "data": {
      "text/html": [
       "<div>\n",
       "<style scoped>\n",
       "    .dataframe tbody tr th:only-of-type {\n",
       "        vertical-align: middle;\n",
       "    }\n",
       "\n",
       "    .dataframe tbody tr th {\n",
       "        vertical-align: top;\n",
       "    }\n",
       "\n",
       "    .dataframe thead th {\n",
       "        text-align: right;\n",
       "    }\n",
       "</style>\n",
       "<table border=\"1\" class=\"dataframe\">\n",
       "  <thead>\n",
       "    <tr style=\"text-align: right;\">\n",
       "      <th></th>\n",
       "      <th>avg_salary</th>\n",
       "    </tr>\n",
       "    <tr>\n",
       "      <th>job_state</th>\n",
       "      <th></th>\n",
       "    </tr>\n",
       "  </thead>\n",
       "  <tbody>\n",
       "    <tr>\n",
       "      <th>KY</th>\n",
       "      <td>102.500000</td>\n",
       "    </tr>\n",
       "    <tr>\n",
       "      <th>TN</th>\n",
       "      <td>87.500000</td>\n",
       "    </tr>\n",
       "    <tr>\n",
       "      <th>HI</th>\n",
       "      <td>87.500000</td>\n",
       "    </tr>\n",
       "    <tr>\n",
       "      <th>ME</th>\n",
       "      <td>87.500000</td>\n",
       "    </tr>\n",
       "    <tr>\n",
       "      <th>SC</th>\n",
       "      <td>85.250000</td>\n",
       "    </tr>\n",
       "    <tr>\n",
       "      <th>PA</th>\n",
       "      <td>85.214286</td>\n",
       "    </tr>\n",
       "    <tr>\n",
       "      <th>IL</th>\n",
       "      <td>84.625000</td>\n",
       "    </tr>\n",
       "    <tr>\n",
       "      <th>DC</th>\n",
       "      <td>83.400000</td>\n",
       "    </tr>\n",
       "    <tr>\n",
       "      <th>OH</th>\n",
       "      <td>83.125000</td>\n",
       "    </tr>\n",
       "    <tr>\n",
       "      <th>UT</th>\n",
       "      <td>83.000000</td>\n",
       "    </tr>\n",
       "    <tr>\n",
       "      <th>NE</th>\n",
       "      <td>83.000000</td>\n",
       "    </tr>\n",
       "    <tr>\n",
       "      <th>GA</th>\n",
       "      <td>82.000000</td>\n",
       "    </tr>\n",
       "    <tr>\n",
       "      <th>MO</th>\n",
       "      <td>81.500000</td>\n",
       "    </tr>\n",
       "    <tr>\n",
       "      <th>MN</th>\n",
       "      <td>81.437500</td>\n",
       "    </tr>\n",
       "    <tr>\n",
       "      <th>AZ</th>\n",
       "      <td>81.285714</td>\n",
       "    </tr>\n",
       "    <tr>\n",
       "      <th>Remote</th>\n",
       "      <td>81.097015</td>\n",
       "    </tr>\n",
       "    <tr>\n",
       "      <th>MA</th>\n",
       "      <td>80.684211</td>\n",
       "    </tr>\n",
       "    <tr>\n",
       "      <th>NY</th>\n",
       "      <td>80.340426</td>\n",
       "    </tr>\n",
       "    <tr>\n",
       "      <th>NC</th>\n",
       "      <td>80.166667</td>\n",
       "    </tr>\n",
       "    <tr>\n",
       "      <th>NJ</th>\n",
       "      <td>80.156250</td>\n",
       "    </tr>\n",
       "    <tr>\n",
       "      <th>CA</th>\n",
       "      <td>79.947917</td>\n",
       "    </tr>\n",
       "    <tr>\n",
       "      <th>FL</th>\n",
       "      <td>77.963415</td>\n",
       "    </tr>\n",
       "    <tr>\n",
       "      <th>VA</th>\n",
       "      <td>77.434783</td>\n",
       "    </tr>\n",
       "    <tr>\n",
       "      <th>MD</th>\n",
       "      <td>77.375000</td>\n",
       "    </tr>\n",
       "    <tr>\n",
       "      <th>OH</th>\n",
       "      <td>76.815789</td>\n",
       "    </tr>\n",
       "    <tr>\n",
       "      <th>LA</th>\n",
       "      <td>76.312500</td>\n",
       "    </tr>\n",
       "    <tr>\n",
       "      <th>CT</th>\n",
       "      <td>76.285714</td>\n",
       "    </tr>\n",
       "    <tr>\n",
       "      <th>WA</th>\n",
       "      <td>75.500000</td>\n",
       "    </tr>\n",
       "    <tr>\n",
       "      <th>WV</th>\n",
       "      <td>75.500000</td>\n",
       "    </tr>\n",
       "    <tr>\n",
       "      <th>NH</th>\n",
       "      <td>74.300000</td>\n",
       "    </tr>\n",
       "    <tr>\n",
       "      <th>OR</th>\n",
       "      <td>74.000000</td>\n",
       "    </tr>\n",
       "    <tr>\n",
       "      <th>CO</th>\n",
       "      <td>73.454545</td>\n",
       "    </tr>\n",
       "    <tr>\n",
       "      <th>TX</th>\n",
       "      <td>72.850000</td>\n",
       "    </tr>\n",
       "    <tr>\n",
       "      <th>IA</th>\n",
       "      <td>71.900000</td>\n",
       "    </tr>\n",
       "    <tr>\n",
       "      <th>PR</th>\n",
       "      <td>69.500000</td>\n",
       "    </tr>\n",
       "  </tbody>\n",
       "</table>\n",
       "</div>"
      ],
      "text/plain": [
       "           avg_salary\n",
       "job_state            \n",
       " KY        102.500000\n",
       " TN         87.500000\n",
       " HI         87.500000\n",
       " ME         87.500000\n",
       " SC         85.250000\n",
       " PA         85.214286\n",
       " IL         84.625000\n",
       " DC         83.400000\n",
       "OH          83.125000\n",
       " UT         83.000000\n",
       " NE         83.000000\n",
       " GA         82.000000\n",
       " MO         81.500000\n",
       " MN         81.437500\n",
       " AZ         81.285714\n",
       "Remote      81.097015\n",
       " MA         80.684211\n",
       " NY         80.340426\n",
       " NC         80.166667\n",
       " NJ         80.156250\n",
       " CA         79.947917\n",
       " FL         77.963415\n",
       " VA         77.434783\n",
       " MD         77.375000\n",
       " OH         76.815789\n",
       " LA         76.312500\n",
       " CT         76.285714\n",
       " WA         75.500000\n",
       " WV         75.500000\n",
       " NH         74.300000\n",
       " OR         74.000000\n",
       " CO         73.454545\n",
       " TX         72.850000\n",
       " IA         71.900000\n",
       " PR         69.500000"
      ]
     },
     "execution_count": 99,
     "metadata": {},
     "output_type": "execute_result"
    }
   ],
   "source": [
    "pd.pivot_table(df2, index= 'job_state', values= \"avg_salary\").sort_values('avg_salary', ascending= False)"
   ]
  },
  {
   "cell_type": "code",
   "execution_count": 100,
   "metadata": {},
   "outputs": [],
   "source": [
    "df2_pivots = df2[['Industry', 'Sector', 'Revenue', 'excel', 'python', 'Type of ownership', 'avg_salary']]"
   ]
  },
  {
   "cell_type": "code",
   "execution_count": 101,
   "metadata": {},
   "outputs": [
    {
     "name": "stdout",
     "output_type": "stream",
     "text": [
      "Industry\n",
      "                                         avg_salary\n",
      "Industry                                           \n",
      "Utilities                                102.500000\n",
      "Airlines                                  90.000000\n",
      "Research & Development                    87.500000\n",
      "Other Retail Stores                       87.500000\n",
      "Staffing & Outsourcing                    85.754717\n",
      "Industrial Manufacturing                  85.250000\n",
      "Beauty & Personal Accessories Stores      85.200000\n",
      "Logistics & Supply Chain                  84.500000\n",
      "Internet                                  84.050000\n",
      "Aerospace & Defense                       83.875000\n",
      "Biotech & Pharmaceuticals                 83.000000\n",
      "IT Services                               82.242424\n",
      "Insurance Carriers                        81.615385\n",
      "Consulting                                80.214286\n",
      "Health Care Services & Hospitals          79.923077\n",
      "Advertising & Marketing                   78.714286\n",
      "Accounting                                78.333333\n",
      "Computer Hardware & Software              78.107143\n",
      "-1                                        78.045000\n",
      "Financial Transaction Processing          77.750000\n",
      "News Outlet                               77.700000\n",
      "Banks & Credit Unions                     76.250000\n",
      "Architectural & Engineering Services      76.090909\n",
      "Wholesale                                 75.500000\n",
      "Food & Beverage Manufacturing             75.500000\n",
      "Electrical & Electronic Manufacturing     75.500000\n",
      "Transportation Management                 75.363636\n",
      "Enterprise Software & Network Solutions   74.342105\n",
      "Trucking                                  73.750000\n",
      "Energy                                    73.450000\n",
      "Miscellaneous Manufacturing               69.500000\n",
      "Department, Clothing, & Shoe Stores       69.333333\n",
      "Chemical Manufacturing                    69.250000\n",
      "Insurance Agencies & Brokerages           69.125000\n",
      "Grocery Stores & Supermarkets             67.000000\n",
      "Real Estate                               63.500000\n",
      "Sector\n",
      "                              avg_salary\n",
      "Sector                                  \n",
      "Travel & Tourism               90.000000\n",
      "Aerospace & Defense            83.875000\n",
      "Biotech & Pharmaceuticals      83.000000\n",
      "Business Services              82.279817\n",
      "Insurance                      79.950000\n",
      "Health Care                    79.923077\n",
      "Information Technology         79.427632\n",
      "Accounting & Legal             78.333333\n",
      "-1                             78.045000\n",
      "Media                          77.700000\n",
      "Finance                        76.875000\n",
      "Retail                         76.875000\n",
      "Transportation & Logistics     76.250000\n",
      "Oil, Gas, Energy & Utilities   76.090909\n",
      "Manufacturing                  73.192308\n",
      "Real Estate                    63.500000\n",
      "Revenue\n",
      "                                  avg_salary\n",
      "Revenue                                     \n",
      "$5 to $10 million (USD)            85.250000\n",
      "$25 to $50 million (USD)           82.282609\n",
      "$100 to $500 million (USD)         82.250000\n",
      "$10 to $25 million (USD)           80.138889\n",
      "$10+ billion (USD)                 80.085714\n",
      "$2 to $5 billion (USD)             79.933333\n",
      "$500 million to $1 billion (USD)   79.375000\n",
      "$5 to $10 billion (USD)            79.055556\n",
      "$1 to $2 billion (USD)             78.952381\n",
      "Less than $1 million (USD)         78.666667\n",
      "Unknown / Non-Applicable           78.587786\n",
      "$50 to $100 million (USD)          78.537037\n",
      "$1 to $5 million (USD)             78.500000\n",
      "-1                                 77.646154\n",
      "excel\n",
      "       avg_salary\n",
      "excel            \n",
      "1       80.725275\n",
      "0       78.873874\n",
      "python\n",
      "        avg_salary\n",
      "python            \n",
      "1        81.625000\n",
      "0        79.178922\n",
      "Type of ownership\n",
      "                                avg_salary\n",
      "Type of ownership                         \n",
      "Self-employed                    87.500000\n",
      "Subsidiary or Business Segment   82.687500\n",
      "Company - Private                80.427602\n",
      "Company - Public                 78.593407\n",
      "-1                               77.646154\n",
      "Nonprofit Organization           76.052632\n",
      "Government                       74.714286\n",
      "Private Practice / Firm          71.250000\n",
      "Unknown                          63.500000\n",
      "avg_salary\n"
     ]
    }
   ],
   "source": [
    "for i in df2_pivots.columns:\n",
    "    try:\n",
    "        print(i)\n",
    "        print(pd.pivot_table(df2_pivots,index =i, values = 'avg_salary').sort_values('avg_salary', ascending = False))\n",
    "    except Exception:\n",
    "        pass"
   ]
  },
  {
   "cell_type": "code",
   "execution_count": null,
   "metadata": {},
   "outputs": [],
   "source": []
  }
 ],
 "metadata": {
  "interpreter": {
   "hash": "c608726d406192abd580d013773688c8be6d7505656efc691f422b5dd4019a45"
  },
  "kernelspec": {
   "display_name": "Python 3.9.7 64-bit (windows store)",
   "name": "python3"
  },
  "language_info": {
   "codemirror_mode": {
    "name": "ipython",
    "version": 3
   },
   "file_extension": ".py",
   "mimetype": "text/x-python",
   "name": "python",
   "nbconvert_exporter": "python",
   "pygments_lexer": "ipython3",
   "version": "3.9.7"
  },
  "orig_nbformat": 4
 },
 "nbformat": 4,
 "nbformat_minor": 2
}
